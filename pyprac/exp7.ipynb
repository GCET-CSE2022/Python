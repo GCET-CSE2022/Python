{
 "cells": [
  {
   "cell_type": "code",
   "execution_count": 2,
   "id": "a32329a8",
   "metadata": {},
   "outputs": [
    {
     "name": "stdout",
     "output_type": "stream",
     "text": [
      "Faheem's Information:\n",
      "Name: Faheem\n",
      "Roll No: 24\n",
      "\n",
      "Bhat's Information:\n",
      "Name: Bhat\n",
      "Roll No: 8\n"
     ]
    }
   ],
   "source": [
    "# --- Class Definition ---\n",
    "class Student:\n",
    "    \n",
    "    # Constructor (__init__ method)\n",
    "    def __init__(self, name, roll):\n",
    "        self.name = name\n",
    "        self.roll = roll\n",
    "\n",
    "    # Method to display details\n",
    "    def display_info(self):\n",
    "        print(f\"Name: {self.name}\")\n",
    "        print(f\"Roll No: {self.roll}\")\n",
    "\n",
    "# --- Creating Objects ---\n",
    "student1 = Student(\"Faheem\", 24)\n",
    "student2 = Student(\"Bhat\", 8)\n",
    "\n",
    "\n",
    "# --- Calling Methods ---\n",
    "print(\"Faheem's Information:\")\n",
    "student1.display_info()\n",
    "\n",
    "print(\"\\nBhat's Information:\")\n",
    "student2.display_info()\n"
   ]
  }
 ],
 "metadata": {
  "kernelspec": {
   "display_name": "Python 3",
   "language": "python",
   "name": "python3"
  },
  "language_info": {
   "codemirror_mode": {
    "name": "ipython",
    "version": 3
   },
   "file_extension": ".py",
   "mimetype": "text/x-python",
   "name": "python",
   "nbconvert_exporter": "python",
   "pygments_lexer": "ipython3",
   "version": "3.13.1"
  }
 },
 "nbformat": 4,
 "nbformat_minor": 5
}
