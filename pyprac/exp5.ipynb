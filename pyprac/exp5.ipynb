{
 "cells": [
  {
   "cell_type": "markdown",
   "id": "644078d6",
   "metadata": {},
   "source": [
    "**set**"
   ]
  },
  {
   "cell_type": "code",
   "execution_count": 2,
   "id": "e59884d9",
   "metadata": {},
   "outputs": [
    {
     "name": "stdout",
     "output_type": "stream",
     "text": [
      "Original Set: {40, 10, 20, 30}\n",
      "After adding 50: {40, 10, 50, 20, 30}\n",
      "After removing 10: {40, 50, 20, 30}\n",
      "After update: {70, 40, 50, 20, 60, 30}\n"
     ]
    }
   ],
   "source": [
    "# --- Set Creation ---\n",
    "numbers = {10, 20, 30, 20, 40}          # Duplicate 20 will be automatically removed\n",
    "print(\"Original Set:\", numbers)\n",
    "\n",
    "# --- Adding Elements ---\n",
    "numbers.add(50)                         # Adds a single element\n",
    "print(\"After adding 50:\", numbers)\n",
    "\n",
    "# --- Removing Elements ---\n",
    "numbers.remove(10)                      # Removes 10 (raises error if not present)\n",
    "print(\"After removing 10:\", numbers)\n",
    "\n",
    "# --- Updating with Multiple Values ---\n",
    "numbers.update([60, 70])                # Adds multiple values\n",
    "print(\"After update:\", numbers)\n"
   ]
  },
  {
   "cell_type": "markdown",
   "id": "ce112fad",
   "metadata": {},
   "source": [
    "Tuple"
   ]
  },
  {
   "cell_type": "code",
   "execution_count": 4,
   "id": "0f297a42",
   "metadata": {},
   "outputs": [
    {
     "name": "stdout",
     "output_type": "stream",
     "text": [
      "Original Tuple: ('red', 'green', 'blue', 'green')\n",
      "First two elements (colors[:2]): ('red', 'green')\n",
      "Alternate elements (colors[::2]): ('red', 'blue')\n",
      "Index of 'blue': 2\n",
      "Count of 'green': 2\n"
     ]
    }
   ],
   "source": [
    "# --- Tuple Creation ---\n",
    "colors = ('red', 'green', 'blue', 'green')\n",
    "print(\"Original Tuple:\", colors)\n",
    "\n",
    "# --- Tuple Slicing ---\n",
    "print(\"First two elements (colors[:2]):\", colors[:2])       # From start to index 1\n",
    "print(\"Alternate elements (colors[::2]):\", colors[::2])      # Every 2nd element\n",
    "\n",
    "# --- Tuple Methods ---\n",
    "print(\"Index of 'blue':\", colors.index('blue'))              # First index of 'blue'\n",
    "print(\"Count of 'green':\", colors.count('green'))            # How many times 'green' appears\n"
   ]
  },
  {
   "cell_type": "markdown",
   "id": "955a43ce",
   "metadata": {},
   "source": [
    "List\n"
   ]
  },
  {
   "cell_type": "code",
   "execution_count": 5,
   "id": "dfc7dc26",
   "metadata": {},
   "outputs": [
    {
     "name": "stdout",
     "output_type": "stream",
     "text": [
      "Original List: ['apple', 'banana', 'cherry']\n",
      "First three fruits: ['apple', 'banana', 'cherry']\n",
      "Last two fruits: ['banana', 'cherry']\n",
      "After modifications: ['apple', 'blueberry', 'cherry', 'grape']\n"
     ]
    }
   ],
   "source": [
    "# --- List Creation ---\n",
    "fruits = ['apple', 'banana', 'cherry']\n",
    "print(\"Original List:\", fruits)\n",
    "\n",
    "# --- List Slicing ---\n",
    "print(\"First three fruits:\", fruits[:3])      # Slices from index 0 to 2\n",
    "print(\"Last two fruits:\", fruits[-2:])        # Slices from index -2 to end\n",
    "\n",
    "# --- List Methods ---\n",
    "fruits.append('grape')                        # Adds 'grape' to the end\n",
    "fruits.remove('banana')                       # Removes 'banana' from the list\n",
    "fruits.insert(1, 'blueberry')                 # Inserts 'blueberry' at index 1\n",
    "\n",
    "print(\"After modifications:\", fruits)\n"
   ]
  },
  {
   "cell_type": "markdown",
   "id": "40bdf28e",
   "metadata": {},
   "source": [
    "# Dict"
   ]
  },
  {
   "cell_type": "code",
   "execution_count": 1,
   "id": "0df21594",
   "metadata": {},
   "outputs": [
    {
     "name": "stdout",
     "output_type": "stream",
     "text": [
      "Original Dictionary: {'name': 'John', 'age': 20, 'grade': 'A'}\n",
      "Name: John\n",
      "After update: {'name': 'John', 'age': 21, 'grade': 'A', 'subject': 'Math'}\n",
      "Keys: ['name', 'age', 'grade', 'subject']\n",
      "Values: ['John', 21, 'A', 'Math']\n",
      "Items: [('name', 'John'), ('age', 21), ('grade', 'A'), ('subject', 'Math')]\n"
     ]
    }
   ],
   "source": [
    "# --- Dictionary Creation ---\n",
    "student = {'name': 'John', 'age': 20, 'grade': 'A'}\n",
    "print(\"Original Dictionary:\", student)\n",
    "\n",
    "# --- Accessing Values ---\n",
    "print(\"Name:\", student['name'])              # Accessing value by key\n",
    "\n",
    "# --- Updating & Adding Entries ---\n",
    "student['age'] = 21                          # Updating existing key\n",
    "student['subject'] = 'Math'                  # Adding new key-value pair\n",
    "print(\"After update:\", student)\n",
    "\n",
    "# --- Dictionary Methods ---\n",
    "print(\"Keys:\", list(student.keys()))         # All keys as a list\n",
    "print(\"Values:\", list(student.values()))     # All values as a list\n",
    "print(\"Items:\", list(student.items()))       # All key-value pairs as tuples in a list\n"
   ]
  }
 ],
 "metadata": {
  "kernelspec": {
   "display_name": "Python 3",
   "language": "python",
   "name": "python3"
  },
  "language_info": {
   "codemirror_mode": {
    "name": "ipython",
    "version": 3
   },
   "file_extension": ".py",
   "mimetype": "text/x-python",
   "name": "python",
   "nbconvert_exporter": "python",
   "pygments_lexer": "ipython3",
   "version": "3.13.1"
  }
 },
 "nbformat": 4,
 "nbformat_minor": 5
}
