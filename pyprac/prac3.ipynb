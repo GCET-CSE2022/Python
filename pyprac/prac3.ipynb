{
 "cells": [
  {
   "cell_type": "code",
   "execution_count": 1,
   "id": "e9059020",
   "metadata": {},
   "outputs": [
    {
     "name": "stdout",
     "output_type": "stream",
     "text": [
      "For Loop: Print numbers from 1 to 5\n",
      "1 2 3 4 5 \n",
      "\n",
      "While Loop: Print numbers from 1 to 5\n",
      "1 2 3 4 5 \n",
      "\n"
     ]
    }
   ],
   "source": [
    "print(\"For Loop: Print numbers from 1 to 5\")\n",
    "for i in range(1, 6):\n",
    "    print(i, end=' ')\n",
    "print(\"\\n\")  # newline\n",
    "\n",
    "# --- While Loop ---\n",
    "print(\"While Loop: Print numbers from 1 to 5\")\n",
    "x = 1\n",
    "while x <= 5:\n",
    "    print(x, end=' ')\n",
    "    x += 1\n",
    "print(\"\\n\")"
   ]
  }
 ],
 "metadata": {
  "kernelspec": {
   "display_name": "Python 3",
   "language": "python",
   "name": "python3"
  },
  "language_info": {
   "codemirror_mode": {
    "name": "ipython",
    "version": 3
   },
   "file_extension": ".py",
   "mimetype": "text/x-python",
   "name": "python",
   "nbconvert_exporter": "python",
   "pygments_lexer": "ipython3",
   "version": "3.13.1"
  }
 },
 "nbformat": 4,
 "nbformat_minor": 5
}
