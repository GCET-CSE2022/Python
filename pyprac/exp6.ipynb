{
 "cells": [
  {
   "cell_type": "code",
   "execution_count": 1,
   "id": "b6e6dbfc",
   "metadata": {},
   "outputs": [
    {
     "name": "stdout",
     "output_type": "stream",
     "text": [
      "File Content:\n",
      " Hello world\n",
      "\n",
      "File copied successfully to 'copy.txt'.\n",
      "\n",
      "Characters: 11, Words: 2, Lines: 1\n",
      "\n",
      "Lines in Reverse:\n",
      "Hello world\n",
      "\n",
      "Character Frequency:\n",
      "d: 1\n",
      "e: 1\n",
      "h: 1\n",
      "l: 3\n",
      "o: 2\n",
      "r: 1\n",
      "w: 1\n"
     ]
    }
   ],
   "source": [
    "# --- Writing to a File ---\n",
    "with open(\"sample.txt\", \"w\") as file:\n",
    "    file.write(\"Hello world\")\n",
    "\n",
    "# --- Reading from a File ---\n",
    "with open(\"sample.txt\", \"r\") as file:\n",
    "    content = file.read()\n",
    "    print(\"File Content:\\n\", content)\n",
    "\n",
    "# --- Copying File ---\n",
    "with open(\"sample.txt\", \"r\") as original, open(\"copy.txt\", \"w\") as copy:\n",
    "    copy.write(original.read())\n",
    "print(\"\\nFile copied successfully to 'copy.txt'.\")\n",
    "\n",
    "# --- Counting Characters, Words, and Lines ---\n",
    "with open(\"sample.txt\", \"r\") as file:\n",
    "    text = file.read()\n",
    "    char_count = len(text)\n",
    "    word_count = len(text.split())\n",
    "    line_count = text.count('\\n') + 1\n",
    "\n",
    "print(f\"\\nCharacters: {char_count}, Words: {word_count}, Lines: {line_count}\")\n",
    "\n",
    "# --- Printing Lines in Reverse Order ---\n",
    "with open(\"sample.txt\", \"r\") as file:\n",
    "    lines = file.readlines()\n",
    "    print(\"\\nLines in Reverse:\")\n",
    "    for line in reversed(lines):\n",
    "        print(line.strip())\n",
    "\n",
    "# --- Character Frequency Count ---\n",
    "freq = {}\n",
    "for char in text:\n",
    "    if char.isalpha():  # Ignore spaces and punctuation\n",
    "        freq[char.lower()] = freq.get(char.lower(), 0) + 1\n",
    "\n",
    "print(\"\\nCharacter Frequency:\")\n",
    "for ch, count in sorted(freq.items()):\n",
    "    print(f\"{ch}: {count}\")\n"
   ]
  }
 ],
 "metadata": {
  "kernelspec": {
   "display_name": "Python 3",
   "language": "python",
   "name": "python3"
  },
  "language_info": {
   "codemirror_mode": {
    "name": "ipython",
    "version": 3
   },
   "file_extension": ".py",
   "mimetype": "text/x-python",
   "name": "python",
   "nbconvert_exporter": "python",
   "pygments_lexer": "ipython3",
   "version": "3.13.1"
  }
 },
 "nbformat": 4,
 "nbformat_minor": 5
}
