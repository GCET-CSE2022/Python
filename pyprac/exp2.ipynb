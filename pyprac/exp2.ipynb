{
 "cells": [
  {
   "cell_type": "code",
   "execution_count": 7,
   "id": "a1d9c206",
   "metadata": {},
   "outputs": [
    {
     "name": "stdout",
     "output_type": "stream",
     "text": [
      "Welcome|Faheem|Age:|21\n",
      "Arithmetic Sum: 13\n",
      "Difference: 7\n",
      "Product: 30\n",
      "Division: 3.33, Floor Div: 3\n",
      "Modulus: 1, Exponent a^b: 1000\n",
      "\n",
      " Relational 10 > 3 : True\n",
      "10 < 3 : False\n",
      "10 == 3 : False\n",
      "10 != 3 : True\n",
      "10 >= 3 : True\n",
      "10 <= 3 : False\n",
      "\n",
      " Logical : x and y = False\n",
      "True or False : True, not(True) : False\n",
      "\n",
      " Bitwise : a & b : 1\n",
      "a | b : 7, a ^ b : 6\n",
      "~a i.e. ~5 : -6\n",
      "a << 1 : 10\n",
      "a >> 1 : 2\n",
      "True\n",
      "True\n",
      "True\n",
      "False\n",
      "The number is Odd\n"
     ]
    }
   ],
   "source": [
    "name = input(\"Enter Your Name\")\n",
    "age = int(input(\"Enter Your Age\"))\n",
    "\n",
    "print(\"Welcome\", name, \"Age:\", age, sep=\"|\", end=\"\\n\")\n",
    "\n",
    "\n",
    "a, b = 10, 3\n",
    "\n",
    "print(f\"Arithmetic Sum: {a + b}\")\n",
    "print(f\"Difference: {a - b}\")\n",
    "print(f\"Product: {a * b}\")\n",
    "print(f\"Division: {a / b:.2f}, Floor Div: {a // b}\")\n",
    "print(f\"Modulus: {a % b}, Exponent a^b: {a ** b}\")\n",
    "\n",
    "\n",
    "print(f\"\\n Relational {a} > {b} : {a > b}\")\n",
    "print(f\"{a} < {b} : {a < b}\")\n",
    "print(f\"{a} == {b} : {a == b}\")\n",
    "print(f\"{a} != {b} : {a != b}\")\n",
    "print(f\"{a} >= {b} : {a >= b}\")\n",
    "print(f\"{a} <= {b} : {a <= b}\")\n",
    "\n",
    "\n",
    "\n",
    "x = True\n",
    "y = False\n",
    "\n",
    "print(f\"\\n Logical : x and y = {x and y}\")\n",
    "print(f\"{x} or {y} : {x or y}, not({x}) : {not x}\")\n",
    "\n",
    "\n",
    "a, b = 5, 3\n",
    "print(f\"\\n Bitwise : a & b : {a & b}\")\n",
    "print(f\"a | b : {a|b}, a ^ b : {a^b}\")\n",
    "print(f\"~a i.e. ~{a} : {~a}\")\n",
    "print(f\"a << 1 : {a<<1}\")\n",
    "print(f\"a >> 1 : {a>>1}\")\n",
    "\n",
    "\n",
    "text = \"Python Programming\"\n",
    "\n",
    "print(\"Python\" in text)       # True\n",
    "print(\"Java\" not in text)     # True\n",
    "\n",
    "\n",
    "x = [1, 2, 3]\n",
    "y = x  # New object, same content\n",
    "\n",
    "print(x is y)      \n",
    "print(x is not y)     \n",
    "\n",
    "\n",
    "num = 5\n",
    "result = \"Even\" if num % 2 == 0 else \"Odd\"\n",
    "print(f\"The number is {result}\")\n"
   ]
  },
  {
   "cell_type": "code",
   "execution_count": 2,
   "id": "bd0a1640",
   "metadata": {},
   "outputs": [
    {
     "name": "stdout",
     "output_type": "stream",
     "text": [
      "Python is Fun\n"
     ]
    }
   ],
   "source": [
    "text = \"Python is Easy\"\n",
    "new_text = text.replace(\"Easy\", \"Fun\")\n",
    "print(new_text)\n"
   ]
  },
  {
   "cell_type": "code",
   "execution_count": 1,
   "id": "83a4e868",
   "metadata": {},
   "outputs": [
    {
     "name": "stdout",
     "output_type": "stream",
     "text": [
      "x is greater than 5\n",
      "Even\n",
      "Positive\n"
     ]
    }
   ],
   "source": [
    "x = 10\n",
    "if x > 5:\n",
    "    print(\"x is greater than 5\")\n",
    "\n",
    "if x % 2 == 0:\n",
    "    print(\"Even\")\n",
    "else:\n",
    "    print(\"Odd\")\n",
    "\n",
    "if x > 0:\n",
    "    print(\"Positive\")\n",
    "elif x == 0:\n",
    "    print(\"Zero\")\n",
    "else:\n",
    "    print(\"Negative\")"
   ]
  }
 ],
 "metadata": {
  "kernelspec": {
   "display_name": "Python 3",
   "language": "python",
   "name": "python3"
  },
  "language_info": {
   "codemirror_mode": {
    "name": "ipython",
    "version": 3
   },
   "file_extension": ".py",
   "mimetype": "text/x-python",
   "name": "python",
   "nbconvert_exporter": "python",
   "pygments_lexer": "ipython3",
   "version": "3.13.1"
  }
 },
 "nbformat": 4,
 "nbformat_minor": 5
}
