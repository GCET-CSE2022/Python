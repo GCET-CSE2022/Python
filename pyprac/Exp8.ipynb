{
 "cells": [
  {
   "cell_type": "code",
   "execution_count": null,
   "id": "f4a27092",
   "metadata": {},
   "outputs": [],
   "source": [
    "import tensorflow as tf\n",
    "\n",
    "a = tf.constant([[1, 2], [3, 4]])\n",
    "b = tf.constant([[5, 6], [7, 8]])\n",
    "\n",
    "result = tf.add(a, b)\n",
    "print(\"TensorFlow Matrix Addition:\\n\", result.numpy())\n"
   ]
  },
  {
   "cell_type": "code",
   "execution_count": 6,
   "id": "befb2561",
   "metadata": {},
   "outputs": [
    {
     "ename": "ModuleNotFoundError",
     "evalue": "No module named 'torch'",
     "output_type": "error",
     "traceback": [
      "\u001b[31m---------------------------------------------------------------------------\u001b[39m",
      "\u001b[31mModuleNotFoundError\u001b[39m                       Traceback (most recent call last)",
      "\u001b[36mCell\u001b[39m\u001b[36m \u001b[39m\u001b[32mIn[6]\u001b[39m\u001b[32m, line 1\u001b[39m\n\u001b[32m----> \u001b[39m\u001b[32m1\u001b[39m \u001b[38;5;28;01mimport\u001b[39;00m\u001b[38;5;250m \u001b[39m\u001b[34;01mtorch\u001b[39;00m\n\u001b[32m      3\u001b[39m x = torch.tensor([\u001b[32m1.0\u001b[39m, \u001b[32m2.0\u001b[39m, \u001b[32m3.0\u001b[39m])\n\u001b[32m      4\u001b[39m y = torch.tensor([\u001b[32m4.0\u001b[39m, \u001b[32m5.0\u001b[39m, \u001b[32m6.0\u001b[39m])\n",
      "\u001b[31mModuleNotFoundError\u001b[39m: No module named 'torch'"
     ]
    }
   ],
   "source": [
    "import torch\n",
    "\n",
    "x = torch.tensor([1.0, 2.0, 3.0])\n",
    "y = torch.tensor([4.0, 5.0, 6.0])\n",
    "\n",
    "result = x + y\n",
    "print(\"PyTorch Tensor Addition:\\n\", result)\n"
   ]
  },
  {
   "cell_type": "markdown",
   "id": "0e8fea7e",
   "metadata": {},
   "source": [
    "TensorFlow Matrix Addition:\n",
    "[[ 6  8]\n",
    " [10 12]]\n",
    "PyTorch Tensor Addition:\n",
    "tensor([5., 7., 9.])\n"
   ]
  },
  {
   "cell_type": "code",
   "execution_count": 3,
   "id": "5b297365",
   "metadata": {},
   "outputs": [
    {
     "name": "stdout",
     "output_type": "stream",
     "text": [
      "Scikit-learn Prediction for input 4: 7.999999999999999\n"
     ]
    }
   ],
   "source": [
    "from sklearn.linear_model import LinearRegression\n",
    "import numpy as np\n",
    "\n",
    "X = np.array([[1], [2], [3]])\n",
    "y = np.array([2, 4, 6])\n",
    "\n",
    "model = LinearRegression().fit(X, y)\n",
    "print(\"Scikit-learn Prediction for input 4:\", model.predict([[4]])[0])\n"
   ]
  },
  {
   "cell_type": "markdown",
   "id": "bb7978d1",
   "metadata": {},
   "source": []
  },
  {
   "cell_type": "code",
   "execution_count": 1,
   "id": "c9669d90",
   "metadata": {},
   "outputs": [
    {
     "name": "stdout",
     "output_type": "stream",
     "text": [
      "OpenCV Image Shape: (460, 460, 3)\n"
     ]
    }
   ],
   "source": [
    "import cv2\n",
    "\n",
    "img = cv2.imread(\"image.jpeg\")  # Ensure image.jpeg is in the same directory\n",
    "if img is not None:\n",
    "    print(\"OpenCV Image Shape:\", img.shape)\n",
    "else:\n",
    "    print(\"Image file not found.\")\n"
   ]
  }
 ],
 "metadata": {
  "kernelspec": {
   "display_name": "Python 3",
   "language": "python",
   "name": "python3"
  },
  "language_info": {
   "codemirror_mode": {
    "name": "ipython",
    "version": 3
   },
   "file_extension": ".py",
   "mimetype": "text/x-python",
   "name": "python",
   "nbconvert_exporter": "python",
   "pygments_lexer": "ipython3",
   "version": "3.13.1"
  }
 },
 "nbformat": 4,
 "nbformat_minor": 5
}
