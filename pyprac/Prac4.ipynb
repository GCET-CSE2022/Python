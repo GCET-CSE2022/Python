{
 "cells": [
  {
   "cell_type": "code",
   "execution_count": 1,
   "id": "7527d69e",
   "metadata": {},
   "outputs": [
    {
     "name": "stdout",
     "output_type": "stream",
     "text": [
      "String: PythonProgramming\n",
      "First character (text[0]): P\n",
      "Last character (text[-1]): g\n",
      "Middle character (text[6]): P\n",
      "\n",
      "Slicing examples:\n",
      "text[0:6]: Python\n",
      "text[::-1]: gnimmargorPnohtyP\n",
      "\n",
      "String Method Examples:\n",
      "Upper case: PYTHONPROGRAMMING\n",
      "Lower case: pythonprogramming\n",
      "Title case: Pythonprogramming\n",
      "Count of 'm': 2\n",
      "Replace 'Python' with 'Java': JavaProgramming\n"
     ]
    }
   ],
   "source": [
    "# --- String Declaration ---\n",
    "text = \"PythonProgramming\"\n",
    "\n",
    "# --- Indexing ---\n",
    "print(\"String:\", text)\n",
    "print(\"First character (text[0]):\", text[0])\n",
    "print(\"Last character (text[-1]):\", text[-1])\n",
    "print(\"Middle character (text[6]):\", text[6])\n",
    "\n",
    "# --- Slicing ---\n",
    "print(\"\\nSlicing examples:\")\n",
    "print(\"text[0:6]:\", text[0:6])          # First 6 characters\n",
    "print(\"text[::-1]:\", text[::-1])        # Reversed string\n",
    "\n",
    "# --- String Methods ---\n",
    "print(\"\\nString Method Examples:\")\n",
    "print(\"Upper case:\", text.upper())\n",
    "print(\"Lower case:\", text.lower())\n",
    "print(\"Title case:\", text.title())\n",
    "print(\"Count of 'm':\", text.count('m'))\n",
    "print(\"Replace 'Python' with 'Java':\", text.replace(\"Python\", \"Java\"))\n"
   ]
  }
 ],
 "metadata": {
  "kernelspec": {
   "display_name": "Python 3",
   "language": "python",
   "name": "python3"
  },
  "language_info": {
   "codemirror_mode": {
    "name": "ipython",
    "version": 3
   },
   "file_extension": ".py",
   "mimetype": "text/x-python",
   "name": "python",
   "nbconvert_exporter": "python",
   "pygments_lexer": "ipython3",
   "version": "3.13.1"
  }
 },
 "nbformat": 4,
 "nbformat_minor": 5
}
